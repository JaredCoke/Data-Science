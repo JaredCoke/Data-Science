{
 "cells": [
  {
   "cell_type": "code",
   "execution_count": 1,
   "id": "ee8aefb6",
   "metadata": {},
   "outputs": [],
   "source": [
    "import numpy as np"
   ]
  },
  {
   "cell_type": "code",
   "execution_count": 2,
   "id": "c6714f46",
   "metadata": {},
   "outputs": [
    {
     "data": {
      "text/plain": [
       "[0, 1, 2, 3, 4, 5, 6, 7, 8]"
      ]
     },
     "execution_count": 2,
     "metadata": {},
     "output_type": "execute_result"
    }
   ],
   "source": [
    "# Create a list w/ 9 elements\n",
    "#list = range(8)\n",
    "list = ([0,1,2,3,4,5,6,7,8])\n",
    "list"
   ]
  },
  {
   "cell_type": "code",
   "execution_count": 3,
   "id": "b9363327",
   "metadata": {},
   "outputs": [
    {
     "data": {
      "text/plain": [
       "array([[0, 1, 2],\n",
       "       [3, 4, 5],\n",
       "       [6, 7, 8]])"
      ]
     },
     "execution_count": 3,
     "metadata": {},
     "output_type": "execute_result"
    }
   ],
   "source": [
    "# convert list to 3x3 NumPy array\n",
    "matrix_3x3 = np.array(list).reshape(3,3)\n",
    "matrix_3x3"
   ]
  },
  {
   "cell_type": "code",
   "execution_count": 5,
   "id": "3a4cd8e9",
   "metadata": {},
   "outputs": [
    {
     "data": {
      "text/plain": [
       "8"
      ]
     },
     "execution_count": 5,
     "metadata": {},
     "output_type": "execute_result"
    }
   ],
   "source": [
    "# max element\n",
    "max_element = np.max(matrix_3x3)\n",
    "max_element"
   ]
  },
  {
   "cell_type": "code",
   "execution_count": 7,
   "id": "9dc60483",
   "metadata": {},
   "outputs": [
    {
     "data": {
      "text/plain": [
       "0"
      ]
     },
     "execution_count": 7,
     "metadata": {},
     "output_type": "execute_result"
    }
   ],
   "source": [
    "# min element\n",
    "min_element = np.min(matrix_3x3)\n",
    "min_element"
   ]
  },
  {
   "cell_type": "code",
   "execution_count": 8,
   "id": "12a3a3f1",
   "metadata": {},
   "outputs": [
    {
     "data": {
      "text/plain": [
       "array([ 3, 12, 21])"
      ]
     },
     "execution_count": 8,
     "metadata": {},
     "output_type": "execute_result"
    }
   ],
   "source": [
    "# sum of the columns in a 3x3 matrix to a 1x3 matrix\n",
    "col1_sum_matrix = matrix_3x3[0,0] + matrix_3x3[0,1] + matrix_3x3[0,2]\n",
    "col2_sum_matrix = matrix_3x3[1,0] + matrix_3x3[1,1] + matrix_3x3[1,2]\n",
    "col3_sum_matrix = matrix_3x3[2,0] + matrix_3x3[2,1] + matrix_3x3[2,2]\n",
    "\n",
    "col_sum_matrix = np.array([col1_sum_matrix, col2_sum_matrix,col3_sum_matrix])\n",
    "\n",
    "col_sum_matrix"
   ]
  },
  {
   "cell_type": "code",
   "execution_count": 9,
   "id": "8e8412ae",
   "metadata": {},
   "outputs": [
    {
     "data": {
      "text/plain": [
       "array([ 3, 12, 21])"
      ]
     },
     "execution_count": 9,
     "metadata": {},
     "output_type": "execute_result"
    }
   ],
   "source": [
    "# sum of the rows in a 3x3 matrix to a 1x3 matrix\n",
    "row1_sum_matrix = matrix_3x3[0][0] + matrix_3x3[0][1] + matrix_3x3[0][2]\n",
    "row2_sum_matrix = matrix_3x3[1][0] + matrix_3x3[1][1] + matrix_3x3[1][2]\n",
    "row3_sum_matrix = matrix_3x3[2][0] + matrix_3x3[2][1] + matrix_3x3[2][2]\n",
    "\n",
    "rows_sum_matrix = np.array([row1_sum_matrix,\n",
    "                            row2_sum_matrix,\n",
    "                            row3_sum_matrix])\n",
    "\n",
    "rows_sum_matrix"
   ]
  },
  {
   "cell_type": "code",
   "execution_count": 11,
   "id": "f7d0147a",
   "metadata": {},
   "outputs": [
    {
     "data": {
      "text/plain": [
       "36"
      ]
     },
     "execution_count": 11,
     "metadata": {},
     "output_type": "execute_result"
    }
   ],
   "source": [
    "element_sum = np.sum(matrix_3x3)\n",
    "element_sum"
   ]
  },
  {
   "cell_type": "code",
   "execution_count": 31,
   "id": "01bcb520",
   "metadata": {},
   "outputs": [
    {
     "data": {
      "text/plain": [
       "array([ 9, 12, 15])"
      ]
     },
     "execution_count": 31,
     "metadata": {},
     "output_type": "execute_result"
    }
   ],
   "source": [
    "other_row_sum_matrix = np.sum(matrix_3x3, axis=0)\n",
    "other_row_sum_matrix"
   ]
  },
  {
   "cell_type": "code",
   "execution_count": 30,
   "id": "83f6ca1b",
   "metadata": {},
   "outputs": [
    {
     "data": {
      "text/plain": [
       "array([ 3, 12, 21])"
      ]
     },
     "execution_count": 30,
     "metadata": {},
     "output_type": "execute_result"
    }
   ],
   "source": [
    "# alternate sum that is simplier\n",
    "\n",
    "other_col_sum_matrix = np.sum(matrix_3x3, axis=1)\n",
    "other_col_sum_matrix"
   ]
  },
  {
   "cell_type": "code",
   "execution_count": null,
   "id": "b01c194b",
   "metadata": {},
   "outputs": [],
   "source": []
  },
  {
   "cell_type": "code",
   "execution_count": null,
   "id": "151ff3bd",
   "metadata": {},
   "outputs": [],
   "source": []
  },
  {
   "cell_type": "code",
   "execution_count": null,
   "id": "7bc707a0",
   "metadata": {},
   "outputs": [],
   "source": []
  },
  {
   "cell_type": "code",
   "execution_count": null,
   "id": "2040747a",
   "metadata": {},
   "outputs": [],
   "source": []
  },
  {
   "cell_type": "code",
   "execution_count": 15,
   "id": "b234a690",
   "metadata": {},
   "outputs": [
    {
     "data": {
      "text/plain": [
       "array([0, 1, 2])"
      ]
     },
     "execution_count": 15,
     "metadata": {},
     "output_type": "execute_result"
    }
   ],
   "source": [
    "matrix_3x3[0,:]"
   ]
  },
  {
   "cell_type": "code",
   "execution_count": 13,
   "id": "fc69bb01",
   "metadata": {},
   "outputs": [
    {
     "data": {
      "text/plain": [
       "array([0, 3, 6])"
      ]
     },
     "execution_count": 13,
     "metadata": {},
     "output_type": "execute_result"
    }
   ],
   "source": [
    "matrix_3x3[:,0]"
   ]
  },
  {
   "cell_type": "code",
   "execution_count": 14,
   "id": "d51d3d3b",
   "metadata": {},
   "outputs": [
    {
     "data": {
      "text/plain": [
       "3"
      ]
     },
     "execution_count": 14,
     "metadata": {},
     "output_type": "execute_result"
    }
   ],
   "source": [
    "len(matrix_3x3[:,0])"
   ]
  },
  {
   "cell_type": "code",
   "execution_count": 47,
   "id": "fd6ecde7",
   "metadata": {},
   "outputs": [
    {
     "data": {
      "text/plain": [
       "3.0"
      ]
     },
     "execution_count": 47,
     "metadata": {},
     "output_type": "execute_result"
    }
   ],
   "source": [
    "# Find the mean\n",
    "col1_mean_matrix = (matrix_3x3[0,0] + matrix_3x3[1,0] + matrix_3x3[2,0]  ) / len(matrix_3x3[:,0])\n",
    "col1_mean_matrix\n",
    "\n",
    "#col_mean_matrix"
   ]
  },
  {
   "cell_type": "code",
   "execution_count": 49,
   "id": "8046c8f4",
   "metadata": {},
   "outputs": [
    {
     "data": {
      "text/plain": [
       "4.0"
      ]
     },
     "execution_count": 49,
     "metadata": {},
     "output_type": "execute_result"
    }
   ],
   "source": [
    "# Find the mean\n",
    "row1_mean_matrix = (matrix_3x3[0,1] + matrix_3x3[1,1] + matrix_3x3[2,1]  ) / len(matrix_3x3[:,1])\n",
    "row1_mean_matrix"
   ]
  },
  {
   "cell_type": "code",
   "execution_count": 20,
   "id": "50220e92",
   "metadata": {},
   "outputs": [
    {
     "data": {
      "text/plain": [
       "5.0"
      ]
     },
     "execution_count": 20,
     "metadata": {},
     "output_type": "execute_result"
    }
   ],
   "source": [
    "# Find the mean\n",
    "col1_mean_matrix = (matrix_3x3[0,2] + matrix_3x3[1,2] + matrix_3x3[2,2]  ) / len(matrix_3x3[:,2])\n",
    "col1_mean_matrix"
   ]
  },
  {
   "cell_type": "code",
   "execution_count": 23,
   "id": "f1b5d637",
   "metadata": {},
   "outputs": [
    {
     "data": {
      "text/plain": [
       "array([3., 4., 5.])"
      ]
     },
     "execution_count": 23,
     "metadata": {},
     "output_type": "execute_result"
    }
   ],
   "source": [
    "# Find the mean\n",
    "other_col1_mean_matrix = np.sum(matrix_3x3, axis=0 ) / len(matrix_3x3[:,0])\n",
    "other_col1_mean_matrix"
   ]
  },
  {
   "cell_type": "code",
   "execution_count": 25,
   "id": "c460f331",
   "metadata": {},
   "outputs": [
    {
     "data": {
      "text/plain": [
       "array([1., 4., 7.])"
      ]
     },
     "execution_count": 25,
     "metadata": {},
     "output_type": "execute_result"
    }
   ],
   "source": [
    "column_of_row_means = np.sum(matrix_3x3, axis=1 ) / len(matrix_3x3[0,:])\n",
    "column_of_row_means"
   ]
  },
  {
   "cell_type": "code",
   "execution_count": 28,
   "id": "0cac6f34",
   "metadata": {},
   "outputs": [
    {
     "data": {
      "text/plain": [
       "4.0"
      ]
     },
     "execution_count": 28,
     "metadata": {},
     "output_type": "execute_result"
    }
   ],
   "source": [
    "mean_matrix_3x3 = np.mean(matrix_3x3)\n",
    "mean_matrix_3x3"
   ]
  },
  {
   "cell_type": "code",
   "execution_count": 39,
   "id": "0a2c32e9",
   "metadata": {},
   "outputs": [
    {
     "data": {
      "text/plain": [
       "3.0"
      ]
     },
     "execution_count": 39,
     "metadata": {},
     "output_type": "execute_result"
    }
   ],
   "source": [
    "other_col1_mean_matrix[0]"
   ]
  },
  {
   "cell_type": "code",
   "execution_count": 45,
   "id": "636fb3f3",
   "metadata": {},
   "outputs": [
    {
     "data": {
      "text/plain": [
       "array([0, 1, 2])"
      ]
     },
     "execution_count": 45,
     "metadata": {},
     "output_type": "execute_result"
    }
   ],
   "source": [
    "matrix_3x3[0,:]"
   ]
  },
  {
   "cell_type": "code",
   "execution_count": 60,
   "id": "d598c366",
   "metadata": {},
   "outputs": [
    {
     "data": {
      "text/plain": [
       "array([-1,  0,  1])"
      ]
     },
     "execution_count": 60,
     "metadata": {},
     "output_type": "execute_result"
    }
   ],
   "source": [
    "# Find all the (element - mean) in row 1\n",
    "\n",
    "row1_element_minus_mean = matrix_3x3[0,:] - 1\n",
    "row1_element_minus_mean"
   ]
  },
  {
   "cell_type": "code",
   "execution_count": 61,
   "id": "fc2eff83",
   "metadata": {},
   "outputs": [
    {
     "data": {
      "text/plain": [
       "array([0.33333333, 0.        , 0.33333333])"
      ]
     },
     "execution_count": 61,
     "metadata": {},
     "output_type": "execute_result"
    }
   ],
   "source": [
    "# Find all the individual variances row 1\n",
    "\n",
    "row1_individual_variances = (row1_element_minus_mean**2) / 3\n",
    "row1_individual_variances"
   ]
  },
  {
   "cell_type": "code",
   "execution_count": 63,
   "id": "f893f664",
   "metadata": {},
   "outputs": [
    {
     "data": {
      "text/plain": [
       "0.6666666666666666"
      ]
     },
     "execution_count": 63,
     "metadata": {},
     "output_type": "execute_result"
    }
   ],
   "source": [
    "# Find the variance for row1 using the sumation\n",
    "\n",
    "row1_variance = np.sum(row1_individual_variances)\n",
    "row1_variance"
   ]
  },
  {
   "cell_type": "code",
   "execution_count": 34,
   "id": "a9993760",
   "metadata": {},
   "outputs": [
    {
     "data": {
      "text/plain": [
       "5.333333333333333"
      ]
     },
     "execution_count": 34,
     "metadata": {},
     "output_type": "execute_result"
    }
   ],
   "source": [
    "# Find the variance\n",
    "# [(element - mean)^2] / num of elements\n",
    "\n",
    "((matrix_3x3[0,0] - mean_matrix_3x3)**2) / len(matrix_3x3)\n"
   ]
  },
  {
   "cell_type": "code",
   "execution_count": null,
   "id": "827c54a4",
   "metadata": {},
   "outputs": [],
   "source": []
  },
  {
   "cell_type": "code",
   "execution_count": null,
   "id": "a1429e19",
   "metadata": {},
   "outputs": [],
   "source": []
  },
  {
   "cell_type": "code",
   "execution_count": null,
   "id": "74d9ff40",
   "metadata": {},
   "outputs": [],
   "source": []
  },
  {
   "cell_type": "code",
   "execution_count": null,
   "id": "b9bba97c",
   "metadata": {},
   "outputs": [],
   "source": []
  },
  {
   "cell_type": "code",
   "execution_count": null,
   "id": "f544c865",
   "metadata": {},
   "outputs": [],
   "source": []
  },
  {
   "cell_type": "code",
   "execution_count": null,
   "id": "3f697da3",
   "metadata": {},
   "outputs": [],
   "source": []
  },
  {
   "cell_type": "code",
   "execution_count": null,
   "id": "b6395952",
   "metadata": {},
   "outputs": [],
   "source": []
  },
  {
   "cell_type": "code",
   "execution_count": null,
   "id": "83f466f4",
   "metadata": {},
   "outputs": [],
   "source": []
  }
 ],
 "metadata": {
  "kernelspec": {
   "display_name": "Python 3 (ipykernel)",
   "language": "python",
   "name": "python3"
  },
  "language_info": {
   "codemirror_mode": {
    "name": "ipython",
    "version": 3
   },
   "file_extension": ".py",
   "mimetype": "text/x-python",
   "name": "python",
   "nbconvert_exporter": "python",
   "pygments_lexer": "ipython3",
   "version": "3.9.13"
  }
 },
 "nbformat": 4,
 "nbformat_minor": 5
}
