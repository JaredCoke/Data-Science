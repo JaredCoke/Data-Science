{
 "cells": [
  {
   "cell_type": "code",
   "execution_count": 46,
   "id": "ee8aefb6",
   "metadata": {},
   "outputs": [],
   "source": [
    "import numpy as np"
   ]
  },
  {
   "cell_type": "code",
   "execution_count": 47,
   "id": "c6714f46",
   "metadata": {},
   "outputs": [
    {
     "data": {
      "text/plain": [
       "[0, 1, 2, 3, 4, 5, 6, 7, 8]"
      ]
     },
     "execution_count": 47,
     "metadata": {},
     "output_type": "execute_result"
    }
   ],
   "source": [
    "# Create a list w/ 9 elements\n",
    "#list = range(8)\n",
    "list = ([0,1,2,3,4,5,6,7,8])\n",
    "list"
   ]
  },
  {
   "cell_type": "code",
   "execution_count": 48,
   "id": "b9363327",
   "metadata": {},
   "outputs": [
    {
     "data": {
      "text/plain": [
       "array([[0, 1, 2],\n",
       "       [3, 4, 5],\n",
       "       [6, 7, 8]])"
      ]
     },
     "execution_count": 48,
     "metadata": {},
     "output_type": "execute_result"
    }
   ],
   "source": [
    "# convert list to 3x3 NumPy array\n",
    "matrix_3x3 = np.array(list).reshape(3,3)\n",
    "matrix_3x3"
   ]
  },
  {
   "cell_type": "code",
   "execution_count": 49,
   "id": "3a4cd8e9",
   "metadata": {},
   "outputs": [
    {
     "data": {
      "text/plain": [
       "8"
      ]
     },
     "execution_count": 49,
     "metadata": {},
     "output_type": "execute_result"
    }
   ],
   "source": [
    "# max element\n",
    "max_element = np.max(matrix_3x3)\n",
    "max_element"
   ]
  },
  {
   "cell_type": "code",
   "execution_count": 50,
   "id": "9dc60483",
   "metadata": {},
   "outputs": [
    {
     "data": {
      "text/plain": [
       "0"
      ]
     },
     "execution_count": 50,
     "metadata": {},
     "output_type": "execute_result"
    }
   ],
   "source": [
    "# min element\n",
    "min_element = np.min(matrix_3x3)\n",
    "min_element"
   ]
  },
  {
   "cell_type": "code",
   "execution_count": 51,
   "id": "12a3a3f1",
   "metadata": {},
   "outputs": [
    {
     "data": {
      "text/plain": [
       "array([ 3, 12, 21])"
      ]
     },
     "execution_count": 51,
     "metadata": {},
     "output_type": "execute_result"
    }
   ],
   "source": [
    "# sum of the columns in a 3x3 matrix to a 1x3 matrix\n",
    "col1_sum_matrix = matrix_3x3[0,0] + matrix_3x3[0,1] + matrix_3x3[0,2]\n",
    "col2_sum_matrix = matrix_3x3[1,0] + matrix_3x3[1,1] + matrix_3x3[1,2]\n",
    "col3_sum_matrix = matrix_3x3[2,0] + matrix_3x3[2,1] + matrix_3x3[2,2]\n",
    "\n",
    "col_sum_matrix = np.array([col1_sum_matrix, col2_sum_matrix,col3_sum_matrix])\n",
    "\n",
    "col_sum_matrix"
   ]
  },
  {
   "cell_type": "code",
   "execution_count": 52,
   "id": "8e8412ae",
   "metadata": {},
   "outputs": [
    {
     "data": {
      "text/plain": [
       "array([ 3, 12, 21])"
      ]
     },
     "execution_count": 52,
     "metadata": {},
     "output_type": "execute_result"
    }
   ],
   "source": [
    "# sum of the rows in a 3x3 matrix to a 1x3 matrix\n",
    "row1_sum_matrix = matrix_3x3[0][0] + matrix_3x3[0][1] + matrix_3x3[0][2]\n",
    "row2_sum_matrix = matrix_3x3[1][0] + matrix_3x3[1][1] + matrix_3x3[1][2]\n",
    "row3_sum_matrix = matrix_3x3[2][0] + matrix_3x3[2][1] + matrix_3x3[2][2]\n",
    "\n",
    "rows_sum_matrix = np.array([row1_sum_matrix,\n",
    "                            row2_sum_matrix,\n",
    "                            row3_sum_matrix])\n",
    "\n",
    "rows_sum_matrix"
   ]
  },
  {
   "cell_type": "code",
   "execution_count": 53,
   "id": "f7d0147a",
   "metadata": {},
   "outputs": [
    {
     "data": {
      "text/plain": [
       "36"
      ]
     },
     "execution_count": 53,
     "metadata": {},
     "output_type": "execute_result"
    }
   ],
   "source": [
    "element_sum = np.sum(matrix_3x3)\n",
    "element_sum"
   ]
  },
  {
   "cell_type": "code",
   "execution_count": 54,
   "id": "01bcb520",
   "metadata": {},
   "outputs": [
    {
     "data": {
      "text/plain": [
       "array([ 9, 12, 15])"
      ]
     },
     "execution_count": 54,
     "metadata": {},
     "output_type": "execute_result"
    }
   ],
   "source": [
    "other_row_sum_matrix = np.sum(matrix_3x3, axis=0)\n",
    "other_row_sum_matrix"
   ]
  },
  {
   "cell_type": "code",
   "execution_count": 55,
   "id": "83f6ca1b",
   "metadata": {},
   "outputs": [
    {
     "data": {
      "text/plain": [
       "array([ 3, 12, 21])"
      ]
     },
     "execution_count": 55,
     "metadata": {},
     "output_type": "execute_result"
    }
   ],
   "source": [
    "# alternate sum that is simplier\n",
    "\n",
    "other_col_sum_matrix = np.sum(matrix_3x3, axis=1)\n",
    "other_col_sum_matrix"
   ]
  },
  {
   "cell_type": "code",
   "execution_count": null,
   "id": "b01c194b",
   "metadata": {},
   "outputs": [],
   "source": []
  },
  {
   "cell_type": "code",
   "execution_count": null,
   "id": "151ff3bd",
   "metadata": {},
   "outputs": [],
   "source": []
  },
  {
   "cell_type": "code",
   "execution_count": null,
   "id": "7bc707a0",
   "metadata": {},
   "outputs": [],
   "source": []
  },
  {
   "cell_type": "code",
   "execution_count": null,
   "id": "2040747a",
   "metadata": {},
   "outputs": [],
   "source": []
  },
  {
   "cell_type": "code",
   "execution_count": 56,
   "id": "b234a690",
   "metadata": {},
   "outputs": [
    {
     "data": {
      "text/plain": [
       "array([0, 1, 2])"
      ]
     },
     "execution_count": 56,
     "metadata": {},
     "output_type": "execute_result"
    }
   ],
   "source": [
    "matrix_3x3[0,:]"
   ]
  },
  {
   "cell_type": "code",
   "execution_count": 57,
   "id": "fc69bb01",
   "metadata": {},
   "outputs": [
    {
     "data": {
      "text/plain": [
       "array([0, 3, 6])"
      ]
     },
     "execution_count": 57,
     "metadata": {},
     "output_type": "execute_result"
    }
   ],
   "source": [
    "matrix_3x3[:,0]"
   ]
  },
  {
   "cell_type": "code",
   "execution_count": 58,
   "id": "d51d3d3b",
   "metadata": {},
   "outputs": [
    {
     "data": {
      "text/plain": [
       "3"
      ]
     },
     "execution_count": 58,
     "metadata": {},
     "output_type": "execute_result"
    }
   ],
   "source": [
    "len(matrix_3x3[:,0])"
   ]
  },
  {
   "cell_type": "code",
   "execution_count": 59,
   "id": "fd6ecde7",
   "metadata": {},
   "outputs": [
    {
     "data": {
      "text/plain": [
       "3.0"
      ]
     },
     "execution_count": 59,
     "metadata": {},
     "output_type": "execute_result"
    }
   ],
   "source": [
    "# Find the mean\n",
    "col1_mean_matrix = (matrix_3x3[0,0] + matrix_3x3[1,0] + matrix_3x3[2,0]  ) / len(matrix_3x3[:,0])\n",
    "col1_mean_matrix\n",
    "\n",
    "#col_mean_matrix"
   ]
  },
  {
   "cell_type": "code",
   "execution_count": 60,
   "id": "8046c8f4",
   "metadata": {},
   "outputs": [
    {
     "data": {
      "text/plain": [
       "4.0"
      ]
     },
     "execution_count": 60,
     "metadata": {},
     "output_type": "execute_result"
    }
   ],
   "source": [
    "# Find the mean\n",
    "row1_mean_matrix = (matrix_3x3[0,1] + matrix_3x3[1,1] + matrix_3x3[2,1]  ) / len(matrix_3x3[:,1])\n",
    "row1_mean_matrix"
   ]
  },
  {
   "cell_type": "code",
   "execution_count": 61,
   "id": "50220e92",
   "metadata": {},
   "outputs": [
    {
     "data": {
      "text/plain": [
       "5.0"
      ]
     },
     "execution_count": 61,
     "metadata": {},
     "output_type": "execute_result"
    }
   ],
   "source": [
    "# Find the mean\n",
    "col1_mean_matrix = (matrix_3x3[0,2] + matrix_3x3[1,2] + matrix_3x3[2,2]  ) / len(matrix_3x3[:,2])\n",
    "col1_mean_matrix"
   ]
  },
  {
   "cell_type": "code",
   "execution_count": 62,
   "id": "f1b5d637",
   "metadata": {},
   "outputs": [
    {
     "data": {
      "text/plain": [
       "array([3., 4., 5.])"
      ]
     },
     "execution_count": 62,
     "metadata": {},
     "output_type": "execute_result"
    }
   ],
   "source": [
    "# Find the mean\n",
    "row_of_column_means = np.sum(matrix_3x3, axis=0 ) / len(matrix_3x3[:,0])\n",
    "row_of_column_means"
   ]
  },
  {
   "cell_type": "code",
   "execution_count": 63,
   "id": "c460f331",
   "metadata": {},
   "outputs": [
    {
     "data": {
      "text/plain": [
       "array([1., 4., 7.])"
      ]
     },
     "execution_count": 63,
     "metadata": {},
     "output_type": "execute_result"
    }
   ],
   "source": [
    "column_of_row_means = np.sum(matrix_3x3, axis=1 ) / len(matrix_3x3[0,:])\n",
    "column_of_row_means"
   ]
  },
  {
   "cell_type": "code",
   "execution_count": 64,
   "id": "0cac6f34",
   "metadata": {},
   "outputs": [
    {
     "data": {
      "text/plain": [
       "4.0"
      ]
     },
     "execution_count": 64,
     "metadata": {},
     "output_type": "execute_result"
    }
   ],
   "source": [
    "mean_matrix_3x3 = np.mean(matrix_3x3)\n",
    "mean_matrix_3x3"
   ]
  },
  {
   "cell_type": "code",
   "execution_count": 65,
   "id": "0a2c32e9",
   "metadata": {},
   "outputs": [],
   "source": [
    "#other_col1_mean_matrix[0]"
   ]
  },
  {
   "cell_type": "code",
   "execution_count": 66,
   "id": "636fb3f3",
   "metadata": {},
   "outputs": [
    {
     "data": {
      "text/plain": [
       "array([0, 1, 2])"
      ]
     },
     "execution_count": 66,
     "metadata": {},
     "output_type": "execute_result"
    }
   ],
   "source": [
    "matrix_3x3[0,:]"
   ]
  },
  {
   "cell_type": "markdown",
   "id": "a489603e",
   "metadata": {},
   "source": [
    "## VARIANCE: Row 1"
   ]
  },
  {
   "cell_type": "code",
   "execution_count": 67,
   "id": "d598c366",
   "metadata": {},
   "outputs": [
    {
     "data": {
      "text/plain": [
       "array([-1.,  0.,  1.])"
      ]
     },
     "execution_count": 67,
     "metadata": {},
     "output_type": "execute_result"
    }
   ],
   "source": [
    "# Find all the (element - mean) in row 1\n",
    "\n",
    "row1_element_minus_mean = matrix_3x3[0,:] - column_of_row_means[0]\n",
    "row1_element_minus_mean"
   ]
  },
  {
   "cell_type": "code",
   "execution_count": 68,
   "id": "fc2eff83",
   "metadata": {},
   "outputs": [
    {
     "data": {
      "text/plain": [
       "array([0.33333333, 0.        , 0.33333333])"
      ]
     },
     "execution_count": 68,
     "metadata": {},
     "output_type": "execute_result"
    }
   ],
   "source": [
    "# Find all the individual variances row 1\n",
    "\n",
    "row1_individual_variances = (row1_element_minus_mean**2) / np.count_nonzero(~np.isnan(matrix_3x3[0,:]))\n",
    "row1_individual_variances"
   ]
  },
  {
   "cell_type": "code",
   "execution_count": 69,
   "id": "f893f664",
   "metadata": {},
   "outputs": [
    {
     "data": {
      "text/plain": [
       "0.6666666666666666"
      ]
     },
     "execution_count": 69,
     "metadata": {},
     "output_type": "execute_result"
    }
   ],
   "source": [
    "# Find the variance for row1 using the sumation\n",
    "\n",
    "row1_variance = np.sum(row1_individual_variances)\n",
    "row1_variance"
   ]
  },
  {
   "cell_type": "code",
   "execution_count": 70,
   "id": "a9993760",
   "metadata": {},
   "outputs": [
    {
     "data": {
      "text/plain": [
       "5.333333333333333"
      ]
     },
     "execution_count": 70,
     "metadata": {},
     "output_type": "execute_result"
    }
   ],
   "source": [
    "# Find the variance\n",
    "# [(element - mean)^2] / num of elements\n",
    "\n",
    "((matrix_3x3[0,0] - mean_matrix_3x3)**2) / len(matrix_3x3)\n"
   ]
  },
  {
   "cell_type": "markdown",
   "id": "a0d5fdb5",
   "metadata": {},
   "source": [
    "## VARIANCE: Row 2"
   ]
  },
  {
   "cell_type": "code",
   "execution_count": 71,
   "id": "827c54a4",
   "metadata": {},
   "outputs": [
    {
     "data": {
      "text/plain": [
       "array([-1.,  0.,  1.])"
      ]
     },
     "execution_count": 71,
     "metadata": {},
     "output_type": "execute_result"
    }
   ],
   "source": [
    "# Find all the (element - mean) in row 2\n",
    "\n",
    "row2_element_minus_mean = matrix_3x3[1,:] - column_of_row_means[1]\n",
    "row2_element_minus_mean"
   ]
  },
  {
   "cell_type": "code",
   "execution_count": 72,
   "id": "a1429e19",
   "metadata": {},
   "outputs": [
    {
     "data": {
      "text/plain": [
       "array([0.33333333, 0.        , 0.33333333])"
      ]
     },
     "execution_count": 72,
     "metadata": {},
     "output_type": "execute_result"
    }
   ],
   "source": [
    "# Find all the individual variances row 2\n",
    "\n",
    "row2_individual_variances = (row2_element_minus_mean**2) / np.count_nonzero(~np.isnan(matrix_3x3[1,:]))\n",
    "row2_individual_variances"
   ]
  },
  {
   "cell_type": "code",
   "execution_count": 73,
   "id": "74d9ff40",
   "metadata": {},
   "outputs": [
    {
     "data": {
      "text/plain": [
       "0.6666666666666666"
      ]
     },
     "execution_count": 73,
     "metadata": {},
     "output_type": "execute_result"
    }
   ],
   "source": [
    "# Find the variance for row2 using the sumation\n",
    "\n",
    "row2_variance = np.sum(row2_individual_variances)\n",
    "row2_variance"
   ]
  },
  {
   "cell_type": "markdown",
   "id": "9c2f90a2",
   "metadata": {},
   "source": [
    "## VARIANCE: Row 3"
   ]
  },
  {
   "cell_type": "code",
   "execution_count": 74,
   "id": "d8517979",
   "metadata": {},
   "outputs": [
    {
     "data": {
      "text/plain": [
       "array([-1.,  0.,  1.])"
      ]
     },
     "execution_count": 74,
     "metadata": {},
     "output_type": "execute_result"
    }
   ],
   "source": [
    "# Find all the (element - mean) in row 3\n",
    "\n",
    "row3_element_minus_mean = matrix_3x3[2,:] - column_of_row_means[2]\n",
    "row3_element_minus_mean"
   ]
  },
  {
   "cell_type": "code",
   "execution_count": 75,
   "id": "bbd2d07b",
   "metadata": {},
   "outputs": [
    {
     "data": {
      "text/plain": [
       "array([0.33333333, 0.        , 0.33333333])"
      ]
     },
     "execution_count": 75,
     "metadata": {},
     "output_type": "execute_result"
    }
   ],
   "source": [
    "# Find all the individual variances row 3\n",
    "\n",
    "row3_individual_variances = (row3_element_minus_mean**2) / np.count_nonzero(~np.isnan(matrix_3x3[2,:]))\n",
    "row3_individual_variances"
   ]
  },
  {
   "cell_type": "code",
   "execution_count": 76,
   "id": "30edc070",
   "metadata": {},
   "outputs": [
    {
     "data": {
      "text/plain": [
       "0.6666666666666666"
      ]
     },
     "execution_count": 76,
     "metadata": {},
     "output_type": "execute_result"
    }
   ],
   "source": [
    "# Find the variance for row3 using the sumation\n",
    "\n",
    "row3_variance = np.sum(row3_individual_variances)\n",
    "row3_variance"
   ]
  },
  {
   "cell_type": "code",
   "execution_count": 77,
   "id": "7ebbcff5",
   "metadata": {},
   "outputs": [
    {
     "data": {
      "text/plain": [
       "[0.6666666666666666, 0.6666666666666666, 0.6666666666666666]"
      ]
     },
     "execution_count": 77,
     "metadata": {},
     "output_type": "execute_result"
    }
   ],
   "source": [
    "column_variances = [row1_variance, row2_variance, row3_variance]\n",
    "column_variances"
   ]
  },
  {
   "cell_type": "markdown",
   "id": "eb766e34",
   "metadata": {},
   "source": [
    "## VARIANCE: Column 1"
   ]
  },
  {
   "cell_type": "code",
   "execution_count": 78,
   "id": "ae979b6a",
   "metadata": {},
   "outputs": [
    {
     "data": {
      "text/plain": [
       "array([-3.,  0.,  3.])"
      ]
     },
     "execution_count": 78,
     "metadata": {},
     "output_type": "execute_result"
    }
   ],
   "source": [
    "# Find all the (element - mean) in column 1\n",
    "\n",
    "col1_element_minus_mean = matrix_3x3[:,0] - row_of_column_means[0]\n",
    "col1_element_minus_mean"
   ]
  },
  {
   "cell_type": "code",
   "execution_count": 79,
   "id": "5a99d00f",
   "metadata": {},
   "outputs": [
    {
     "data": {
      "text/plain": [
       "3"
      ]
     },
     "execution_count": 79,
     "metadata": {},
     "output_type": "execute_result"
    }
   ],
   "source": [
    "np.count_nonzero(~np.isnan(matrix_3x3[:,0]))"
   ]
  },
  {
   "cell_type": "code",
   "execution_count": 80,
   "id": "a20f5e65",
   "metadata": {},
   "outputs": [
    {
     "data": {
      "text/plain": [
       "array([3., 0., 3.])"
      ]
     },
     "execution_count": 80,
     "metadata": {},
     "output_type": "execute_result"
    }
   ],
   "source": [
    "# Find all the individual variances column 1\n",
    "\n",
    "col1_individual_variances = (col1_element_minus_mean**2) / np.count_nonzero(~np.isnan(matrix_3x3[:,0]))\n",
    "col1_individual_variances"
   ]
  },
  {
   "cell_type": "code",
   "execution_count": 81,
   "id": "abfac35b",
   "metadata": {},
   "outputs": [
    {
     "data": {
      "text/plain": [
       "6.0"
      ]
     },
     "execution_count": 81,
     "metadata": {},
     "output_type": "execute_result"
    }
   ],
   "source": [
    "# Find the variance for column 1 using the sumation\n",
    "\n",
    "col1_variance = np.sum(col1_individual_variances)\n",
    "col1_variance"
   ]
  },
  {
   "cell_type": "markdown",
   "id": "da517f9e",
   "metadata": {},
   "source": [
    "## VARIANCE: Column 2"
   ]
  },
  {
   "cell_type": "code",
   "execution_count": 82,
   "id": "9323960d",
   "metadata": {},
   "outputs": [
    {
     "data": {
      "text/plain": [
       "array([-3.,  0.,  3.])"
      ]
     },
     "execution_count": 82,
     "metadata": {},
     "output_type": "execute_result"
    }
   ],
   "source": [
    "# Find all the (element - mean) in column 2\n",
    "\n",
    "col2_element_minus_mean = matrix_3x3[:,1] - row_of_column_means[1]\n",
    "col2_element_minus_mean"
   ]
  },
  {
   "cell_type": "code",
   "execution_count": 83,
   "id": "29503bf9",
   "metadata": {},
   "outputs": [
    {
     "data": {
      "text/plain": [
       "3"
      ]
     },
     "execution_count": 83,
     "metadata": {},
     "output_type": "execute_result"
    }
   ],
   "source": [
    "np.count_nonzero(~np.isnan(matrix_3x3[:,1]))"
   ]
  },
  {
   "cell_type": "code",
   "execution_count": 84,
   "id": "c261f0a1",
   "metadata": {},
   "outputs": [
    {
     "data": {
      "text/plain": [
       "array([3., 0., 3.])"
      ]
     },
     "execution_count": 84,
     "metadata": {},
     "output_type": "execute_result"
    }
   ],
   "source": [
    "# Find all the individual variances column 2\n",
    "\n",
    "col2_individual_variances = (col2_element_minus_mean**2) / np.count_nonzero(~np.isnan(matrix_3x3[:,1]))\n",
    "col2_individual_variances"
   ]
  },
  {
   "cell_type": "code",
   "execution_count": 85,
   "id": "7ba32155",
   "metadata": {},
   "outputs": [
    {
     "data": {
      "text/plain": [
       "6.0"
      ]
     },
     "execution_count": 85,
     "metadata": {},
     "output_type": "execute_result"
    }
   ],
   "source": [
    "# Find the variance for column 2 using the sumation\n",
    "\n",
    "col2_variance = np.sum(col2_individual_variances)\n",
    "col2_variance"
   ]
  },
  {
   "cell_type": "markdown",
   "id": "657d0a16",
   "metadata": {},
   "source": [
    "## VARIANCE: Column 3"
   ]
  },
  {
   "cell_type": "code",
   "execution_count": 86,
   "id": "e514c45f",
   "metadata": {},
   "outputs": [
    {
     "data": {
      "text/plain": [
       "array([-3.,  0.,  3.])"
      ]
     },
     "execution_count": 86,
     "metadata": {},
     "output_type": "execute_result"
    }
   ],
   "source": [
    "# Find all the (element - mean) in column 3\n",
    "\n",
    "col3_element_minus_mean = matrix_3x3[:,2] - row_of_column_means[2]\n",
    "col3_element_minus_mean"
   ]
  },
  {
   "cell_type": "code",
   "execution_count": 87,
   "id": "8d93d35b",
   "metadata": {},
   "outputs": [
    {
     "data": {
      "text/plain": [
       "array([3., 0., 3.])"
      ]
     },
     "execution_count": 87,
     "metadata": {},
     "output_type": "execute_result"
    }
   ],
   "source": [
    "# Find all the individual variances column 3\n",
    "\n",
    "col3_individual_variances = (col3_element_minus_mean**2) / np.count_nonzero(~np.isnan(matrix_3x3[:,2]))\n",
    "col3_individual_variances"
   ]
  },
  {
   "cell_type": "code",
   "execution_count": 88,
   "id": "03bc0fa6",
   "metadata": {},
   "outputs": [
    {
     "data": {
      "text/plain": [
       "6.0"
      ]
     },
     "execution_count": 88,
     "metadata": {},
     "output_type": "execute_result"
    }
   ],
   "source": [
    "# Find the variance for column 3 using the sumation\n",
    "\n",
    "col3_variance = np.sum(col3_individual_variances)\n",
    "col3_variance"
   ]
  },
  {
   "cell_type": "code",
   "execution_count": 89,
   "id": "36507d21",
   "metadata": {},
   "outputs": [],
   "source": [
    "row_variances = [col1_variance, col2_variance, col3_variance]"
   ]
  },
  {
   "cell_type": "markdown",
   "id": "017f8d21",
   "metadata": {},
   "source": [
    "## VARIANCE: Entire Matrix"
   ]
  },
  {
   "cell_type": "code",
   "execution_count": 90,
   "id": "9c5138ac",
   "metadata": {},
   "outputs": [
    {
     "data": {
      "text/plain": [
       "array([[-4., -3., -2.],\n",
       "       [-1.,  0.,  1.],\n",
       "       [ 2.,  3.,  4.]])"
      ]
     },
     "execution_count": 90,
     "metadata": {},
     "output_type": "execute_result"
    }
   ],
   "source": [
    "# Find all the (element - mean) in enitre matrix\n",
    "\n",
    "matrix_element_minus_mean = matrix_3x3[:,:] - mean_matrix_3x3\n",
    "matrix_element_minus_mean"
   ]
  },
  {
   "cell_type": "code",
   "execution_count": 91,
   "id": "556fbe13",
   "metadata": {},
   "outputs": [
    {
     "data": {
      "text/plain": [
       "9"
      ]
     },
     "execution_count": 91,
     "metadata": {},
     "output_type": "execute_result"
    }
   ],
   "source": [
    "np.count_nonzero(~np.isnan(matrix_3x3))"
   ]
  },
  {
   "cell_type": "code",
   "execution_count": 92,
   "id": "a296250f",
   "metadata": {},
   "outputs": [
    {
     "data": {
      "text/plain": [
       "array([[1.77777778, 1.        , 0.44444444],\n",
       "       [0.11111111, 0.        , 0.11111111],\n",
       "       [0.44444444, 1.        , 1.77777778]])"
      ]
     },
     "execution_count": 92,
     "metadata": {},
     "output_type": "execute_result"
    }
   ],
   "source": [
    "# Find all the individual variances in enitre matrix\n",
    "\n",
    "matrix_individual_variances = (matrix_element_minus_mean**2) / np.count_nonzero(~np.isnan(matrix_3x3))\n",
    "matrix_individual_variances"
   ]
  },
  {
   "cell_type": "code",
   "execution_count": 93,
   "id": "4d3cb3ef",
   "metadata": {},
   "outputs": [
    {
     "data": {
      "text/plain": [
       "6.666666666666666"
      ]
     },
     "execution_count": 93,
     "metadata": {},
     "output_type": "execute_result"
    }
   ],
   "source": [
    "# Find the variance for the enitre matrix using the sumation\n",
    "\n",
    "matrix_variance = np.sum(matrix_individual_variances)\n",
    "matrix_variance"
   ]
  },
  {
   "cell_type": "code",
   "execution_count": 94,
   "id": "200a5e81",
   "metadata": {},
   "outputs": [
    {
     "data": {
      "text/plain": [
       "3"
      ]
     },
     "execution_count": 94,
     "metadata": {},
     "output_type": "execute_result"
    }
   ],
   "source": [
    "len(matrix_3x3[:,:])"
   ]
  },
  {
   "cell_type": "code",
   "execution_count": 95,
   "id": "57e0a41f",
   "metadata": {},
   "outputs": [
    {
     "data": {
      "text/plain": [
       "[[6.0, 6.0, 6.0],\n",
       " [0.6666666666666666, 0.6666666666666666, 0.6666666666666666],\n",
       " 6.666666666666666]"
      ]
     },
     "execution_count": 95,
     "metadata": {},
     "output_type": "execute_result"
    }
   ],
   "source": [
    "variances = [row_variances, column_variances, matrix_variance]\n",
    "variances"
   ]
  },
  {
   "cell_type": "markdown",
   "id": "ad88a133",
   "metadata": {},
   "source": [
    "# STANDARD DEVIATION"
   ]
  },
  {
   "cell_type": "markdown",
   "id": "5780fadb",
   "metadata": {},
   "source": [
    "## Find Std Dev of Rows"
   ]
  },
  {
   "cell_type": "code",
   "execution_count": 101,
   "id": "811ed1aa",
   "metadata": {
    "scrolled": true
   },
   "outputs": [
    {
     "data": {
      "text/plain": [
       "[6.0, 6.0, 6.0]"
      ]
     },
     "execution_count": 101,
     "metadata": {},
     "output_type": "execute_result"
    }
   ],
   "source": [
    "row_variances"
   ]
  },
  {
   "cell_type": "code",
   "execution_count": 108,
   "id": "50091a71",
   "metadata": {
    "scrolled": true
   },
   "outputs": [
    {
     "data": {
      "text/plain": [
       "array([2.44948974, 2.44948974, 2.44948974])"
      ]
     },
     "execution_count": 108,
     "metadata": {},
     "output_type": "execute_result"
    }
   ],
   "source": [
    "std_dev_row = np.sqrt(row_variances)\n",
    "std_dev_row"
   ]
  },
  {
   "cell_type": "markdown",
   "id": "625ccd32",
   "metadata": {},
   "source": [
    "## Find Std Dev of Columns"
   ]
  },
  {
   "cell_type": "code",
   "execution_count": 109,
   "id": "d53f1896",
   "metadata": {},
   "outputs": [
    {
     "data": {
      "text/plain": [
       "[0.6666666666666666, 0.6666666666666666, 0.6666666666666666]"
      ]
     },
     "execution_count": 109,
     "metadata": {},
     "output_type": "execute_result"
    }
   ],
   "source": [
    "column_variances"
   ]
  },
  {
   "cell_type": "code",
   "execution_count": 110,
   "id": "2c2f4a10",
   "metadata": {},
   "outputs": [
    {
     "data": {
      "text/plain": [
       "array([0.81649658, 0.81649658, 0.81649658])"
      ]
     },
     "execution_count": 110,
     "metadata": {},
     "output_type": "execute_result"
    }
   ],
   "source": [
    "std_dev_column = np.sqrt(column_variances)\n",
    "std_dev_column"
   ]
  },
  {
   "cell_type": "markdown",
   "id": "4e366d90",
   "metadata": {},
   "source": [
    "## Find Std Dev of Entire Matrix"
   ]
  },
  {
   "cell_type": "code",
   "execution_count": 111,
   "id": "b9d2358a",
   "metadata": {},
   "outputs": [
    {
     "data": {
      "text/plain": [
       "6.666666666666666"
      ]
     },
     "execution_count": 111,
     "metadata": {},
     "output_type": "execute_result"
    }
   ],
   "source": [
    "matrix_variance"
   ]
  },
  {
   "cell_type": "code",
   "execution_count": 112,
   "id": "9e8074bb",
   "metadata": {},
   "outputs": [
    {
     "data": {
      "text/plain": [
       "2.581988897471611"
      ]
     },
     "execution_count": 112,
     "metadata": {},
     "output_type": "execute_result"
    }
   ],
   "source": [
    "std_dev_entire_matrix = np.sqrt(matrix_variance)\n",
    "std_dev_entire_matrix"
   ]
  },
  {
   "cell_type": "markdown",
   "id": "049e0760",
   "metadata": {},
   "source": [
    "# Combine all Std Devs"
   ]
  },
  {
   "cell_type": "code",
   "execution_count": 128,
   "id": "037d6532",
   "metadata": {},
   "outputs": [
    {
     "data": {
      "text/plain": [
       "[array([2.44948974, 2.44948974, 2.44948974]),\n",
       " array([0.81649658, 0.81649658, 0.81649658]),\n",
       " 2.581988897471611]"
      ]
     },
     "execution_count": 128,
     "metadata": {},
     "output_type": "execute_result"
    }
   ],
   "source": [
    "std_devs = [std_dev_row, std_dev_column, std_dev_entire_matrix]\n",
    "std_devs"
   ]
  },
  {
   "cell_type": "markdown",
   "id": "6d0ce4a8",
   "metadata": {},
   "source": [
    "# Convert all matrices and etc into a Dictionary"
   ]
  },
  {
   "cell_type": "code",
   "execution_count": 140,
   "id": "0ea48f34",
   "metadata": {},
   "outputs": [
    {
     "data": {
      "text/plain": [
       "[2.449489742783178, 2.449489742783178, 2.449489742783178]"
      ]
     },
     "execution_count": 140,
     "metadata": {},
     "output_type": "execute_result"
    }
   ],
   "source": [
    "# Convert elements inside std_devs_row to a list\n",
    "std_dev_row_list = std_dev_row.tolist()\n",
    "std_dev_row_list"
   ]
  },
  {
   "cell_type": "code",
   "execution_count": 141,
   "id": "f5138b73",
   "metadata": {},
   "outputs": [
    {
     "data": {
      "text/plain": [
       "{1: 2.449489742783178, 2: 2.449489742783178, 3: 2.449489742783178}"
      ]
     },
     "execution_count": 141,
     "metadata": {},
     "output_type": "execute_result"
    }
   ],
   "source": [
    "# Convert elements inside std_dev_row to a dictionary w/ an index starting at 1\n",
    "std_dev_dict = dict(enumerate(std_dev_row.flatten(), 1))\n",
    "std_dev_dict"
   ]
  },
  {
   "cell_type": "code",
   "execution_count": 125,
   "id": "66a72c06",
   "metadata": {},
   "outputs": [
    {
     "data": {
      "text/plain": [
       "{'standard deviation': [array([2.44948974, 2.44948974, 2.44948974]),\n",
       "  array([0.81649658, 0.81649658, 0.81649658]),\n",
       "  2.581988897471611]}"
      ]
     },
     "execution_count": 125,
     "metadata": {},
     "output_type": "execute_result"
    }
   ],
   "source": [
    "# dict({'standard deviation': [std_devs[0],std_devs[1],std_devs[2]]})\n",
    "dict({'standard deviation': std_devs[0:3]})"
   ]
  },
  {
   "cell_type": "code",
   "execution_count": null,
   "id": "33279d24",
   "metadata": {},
   "outputs": [],
   "source": []
  },
  {
   "cell_type": "code",
   "execution_count": null,
   "id": "c2e9acd6",
   "metadata": {},
   "outputs": [],
   "source": []
  },
  {
   "cell_type": "code",
   "execution_count": null,
   "id": "f0cdf779",
   "metadata": {},
   "outputs": [],
   "source": []
  },
  {
   "cell_type": "code",
   "execution_count": null,
   "id": "27335559",
   "metadata": {},
   "outputs": [],
   "source": []
  },
  {
   "cell_type": "code",
   "execution_count": null,
   "id": "b2dce90c",
   "metadata": {},
   "outputs": [],
   "source": []
  }
 ],
 "metadata": {
  "kernelspec": {
   "display_name": "Python 3 (ipykernel)",
   "language": "python",
   "name": "python3"
  },
  "language_info": {
   "codemirror_mode": {
    "name": "ipython",
    "version": 3
   },
   "file_extension": ".py",
   "mimetype": "text/x-python",
   "name": "python",
   "nbconvert_exporter": "python",
   "pygments_lexer": "ipython3",
   "version": "3.9.13"
  }
 },
 "nbformat": 4,
 "nbformat_minor": 5
}
