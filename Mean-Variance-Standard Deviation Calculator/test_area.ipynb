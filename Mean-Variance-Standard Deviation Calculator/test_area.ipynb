{
 "cells": [
  {
   "cell_type": "code",
   "execution_count": 1,
   "id": "ee8aefb6",
   "metadata": {},
   "outputs": [],
   "source": [
    "import numpy as np"
   ]
  },
  {
   "cell_type": "code",
   "execution_count": 2,
   "id": "c6714f46",
   "metadata": {},
   "outputs": [
    {
     "data": {
      "text/plain": [
       "[0, 1, 2, 3, 4, 5, 6, 7, 8]"
      ]
     },
     "execution_count": 2,
     "metadata": {},
     "output_type": "execute_result"
    }
   ],
   "source": [
    "# Create a list w/ 9 elements\n",
    "#list = range(8)\n",
    "list = ([0,1,2,3,4,5,6,7,8])\n",
    "list"
   ]
  },
  {
   "cell_type": "code",
   "execution_count": 3,
   "id": "b9363327",
   "metadata": {},
   "outputs": [
    {
     "data": {
      "text/plain": [
       "array([[0, 1, 2],\n",
       "       [3, 4, 5],\n",
       "       [6, 7, 8]])"
      ]
     },
     "execution_count": 3,
     "metadata": {},
     "output_type": "execute_result"
    }
   ],
   "source": [
    "# convert list to 3x3 NumPy array\n",
    "matrix_3x3 = np.array(list).reshape(3,3)\n",
    "matrix_3x3"
   ]
  },
  {
   "cell_type": "markdown",
   "id": "b410c5fb",
   "metadata": {},
   "source": [
    "# M A X"
   ]
  },
  {
   "cell_type": "code",
   "execution_count": 91,
   "id": "3a0f36f1",
   "metadata": {},
   "outputs": [
    {
     "data": {
      "text/plain": [
       "array([6, 7, 8])"
      ]
     },
     "execution_count": 91,
     "metadata": {},
     "output_type": "execute_result"
    }
   ],
   "source": [
    "# Find max element in rows\n",
    "matrix_3x3_row_max = np.max(matrix_3x3, axis=0)\n",
    "matrix_3x3_row_max"
   ]
  },
  {
   "cell_type": "code",
   "execution_count": 92,
   "id": "29143d27",
   "metadata": {},
   "outputs": [
    {
     "data": {
      "text/plain": [
       "array([2, 5, 8])"
      ]
     },
     "execution_count": 92,
     "metadata": {},
     "output_type": "execute_result"
    }
   ],
   "source": [
    "# Find max element in columns\n",
    "matrix_3x3_column_max = np.max(matrix_3x3, axis=1)\n",
    "matrix_3x3_column_max"
   ]
  },
  {
   "cell_type": "code",
   "execution_count": 4,
   "id": "3a4cd8e9",
   "metadata": {},
   "outputs": [
    {
     "data": {
      "text/plain": [
       "8"
      ]
     },
     "execution_count": 4,
     "metadata": {},
     "output_type": "execute_result"
    }
   ],
   "source": [
    "# max element\n",
    "max_element = np.max(matrix_3x3)\n",
    "max_element"
   ]
  },
  {
   "cell_type": "markdown",
   "id": "ae6aada2",
   "metadata": {},
   "source": [
    "# M I N"
   ]
  },
  {
   "cell_type": "code",
   "execution_count": 94,
   "id": "261f6f62",
   "metadata": {},
   "outputs": [
    {
     "data": {
      "text/plain": [
       "array([0, 1, 2])"
      ]
     },
     "execution_count": 94,
     "metadata": {},
     "output_type": "execute_result"
    }
   ],
   "source": [
    "# Find min element in rows\n",
    "matrix_3x3_row_min = np.min(matrix_3x3, axis=0)\n",
    "matrix_3x3_row_min"
   ]
  },
  {
   "cell_type": "code",
   "execution_count": 95,
   "id": "1c194d08",
   "metadata": {},
   "outputs": [
    {
     "data": {
      "text/plain": [
       "array([0, 3, 6])"
      ]
     },
     "execution_count": 95,
     "metadata": {},
     "output_type": "execute_result"
    }
   ],
   "source": [
    "# Find min element in column\n",
    "matrix_3x3_column_min = np.min(matrix_3x3, axis=1)\n",
    "matrix_3x3_column_min"
   ]
  },
  {
   "cell_type": "code",
   "execution_count": 5,
   "id": "9dc60483",
   "metadata": {},
   "outputs": [
    {
     "data": {
      "text/plain": [
       "0"
      ]
     },
     "execution_count": 5,
     "metadata": {},
     "output_type": "execute_result"
    }
   ],
   "source": [
    "# min element\n",
    "min_element = np.min(matrix_3x3)\n",
    "min_element"
   ]
  },
  {
   "cell_type": "markdown",
   "id": "1d4aed4f",
   "metadata": {},
   "source": [
    "# S U M"
   ]
  },
  {
   "cell_type": "code",
   "execution_count": 6,
   "id": "12a3a3f1",
   "metadata": {},
   "outputs": [
    {
     "data": {
      "text/plain": [
       "array([ 3, 12, 21])"
      ]
     },
     "execution_count": 6,
     "metadata": {},
     "output_type": "execute_result"
    }
   ],
   "source": [
    "# sum of the columns in a 3x3 matrix to a 1x3 matrix\n",
    "col1_sum_matrix = matrix_3x3[0,0] + matrix_3x3[0,1] + matrix_3x3[0,2]\n",
    "col2_sum_matrix = matrix_3x3[1,0] + matrix_3x3[1,1] + matrix_3x3[1,2]\n",
    "col3_sum_matrix = matrix_3x3[2,0] + matrix_3x3[2,1] + matrix_3x3[2,2]\n",
    "\n",
    "col_sum_matrix = np.array([col1_sum_matrix, col2_sum_matrix,col3_sum_matrix])\n",
    "\n",
    "col_sum_matrix"
   ]
  },
  {
   "cell_type": "code",
   "execution_count": 7,
   "id": "8e8412ae",
   "metadata": {},
   "outputs": [
    {
     "data": {
      "text/plain": [
       "array([ 3, 12, 21])"
      ]
     },
     "execution_count": 7,
     "metadata": {},
     "output_type": "execute_result"
    }
   ],
   "source": [
    "# sum of the rows in a 3x3 matrix to a 1x3 matrix\n",
    "row1_sum_matrix = matrix_3x3[0][0] + matrix_3x3[0][1] + matrix_3x3[0][2]\n",
    "row2_sum_matrix = matrix_3x3[1][0] + matrix_3x3[1][1] + matrix_3x3[1][2]\n",
    "row3_sum_matrix = matrix_3x3[2][0] + matrix_3x3[2][1] + matrix_3x3[2][2]\n",
    "\n",
    "rows_sum_matrix = np.array([row1_sum_matrix,\n",
    "                            row2_sum_matrix,\n",
    "                            row3_sum_matrix])\n",
    "\n",
    "rows_sum_matrix"
   ]
  },
  {
   "cell_type": "code",
   "execution_count": 8,
   "id": "f7d0147a",
   "metadata": {},
   "outputs": [
    {
     "data": {
      "text/plain": [
       "36"
      ]
     },
     "execution_count": 8,
     "metadata": {},
     "output_type": "execute_result"
    }
   ],
   "source": [
    "element_sum = np.sum(matrix_3x3)\n",
    "element_sum"
   ]
  },
  {
   "cell_type": "code",
   "execution_count": 114,
   "id": "01bcb520",
   "metadata": {},
   "outputs": [
    {
     "data": {
      "text/plain": [
       "array([ 9, 12, 15])"
      ]
     },
     "execution_count": 114,
     "metadata": {},
     "output_type": "execute_result"
    }
   ],
   "source": [
    "row_sum_matrix = np.sum(matrix_3x3, axis=0)\n",
    "row_sum_matrix"
   ]
  },
  {
   "cell_type": "code",
   "execution_count": 113,
   "id": "83f6ca1b",
   "metadata": {},
   "outputs": [
    {
     "data": {
      "text/plain": [
       "array([ 3, 12, 21])"
      ]
     },
     "execution_count": 113,
     "metadata": {},
     "output_type": "execute_result"
    }
   ],
   "source": [
    "# alternate sum that is simplier\n",
    "\n",
    "col_sum_matrix = np.sum(matrix_3x3, axis=1)\n",
    "col_sum_matrix"
   ]
  },
  {
   "cell_type": "code",
   "execution_count": 11,
   "id": "b234a690",
   "metadata": {},
   "outputs": [
    {
     "data": {
      "text/plain": [
       "array([0, 1, 2])"
      ]
     },
     "execution_count": 11,
     "metadata": {},
     "output_type": "execute_result"
    }
   ],
   "source": [
    "matrix_3x3[0,:]"
   ]
  },
  {
   "cell_type": "code",
   "execution_count": 12,
   "id": "fc69bb01",
   "metadata": {},
   "outputs": [
    {
     "data": {
      "text/plain": [
       "array([0, 3, 6])"
      ]
     },
     "execution_count": 12,
     "metadata": {},
     "output_type": "execute_result"
    }
   ],
   "source": [
    "matrix_3x3[:,0]"
   ]
  },
  {
   "cell_type": "code",
   "execution_count": 13,
   "id": "d51d3d3b",
   "metadata": {},
   "outputs": [
    {
     "data": {
      "text/plain": [
       "3"
      ]
     },
     "execution_count": 13,
     "metadata": {},
     "output_type": "execute_result"
    }
   ],
   "source": [
    "len(matrix_3x3[:,0])"
   ]
  },
  {
   "cell_type": "code",
   "execution_count": 14,
   "id": "fd6ecde7",
   "metadata": {},
   "outputs": [
    {
     "data": {
      "text/plain": [
       "3.0"
      ]
     },
     "execution_count": 14,
     "metadata": {},
     "output_type": "execute_result"
    }
   ],
   "source": [
    "# Find the mean\n",
    "col1_mean_matrix = (matrix_3x3[0,0] + matrix_3x3[1,0] + matrix_3x3[2,0]  ) / len(matrix_3x3[:,0])\n",
    "col1_mean_matrix\n",
    "\n",
    "#col_mean_matrix"
   ]
  },
  {
   "cell_type": "code",
   "execution_count": 15,
   "id": "8046c8f4",
   "metadata": {},
   "outputs": [
    {
     "data": {
      "text/plain": [
       "4.0"
      ]
     },
     "execution_count": 15,
     "metadata": {},
     "output_type": "execute_result"
    }
   ],
   "source": [
    "# Find the mean\n",
    "row1_mean_matrix = (matrix_3x3[0,1] + matrix_3x3[1,1] + matrix_3x3[2,1]  ) / len(matrix_3x3[:,1])\n",
    "row1_mean_matrix"
   ]
  },
  {
   "cell_type": "code",
   "execution_count": 16,
   "id": "50220e92",
   "metadata": {},
   "outputs": [
    {
     "data": {
      "text/plain": [
       "5.0"
      ]
     },
     "execution_count": 16,
     "metadata": {},
     "output_type": "execute_result"
    }
   ],
   "source": [
    "# Find the mean\n",
    "col1_mean_matrix = (matrix_3x3[0,2] + matrix_3x3[1,2] + matrix_3x3[2,2]  ) / len(matrix_3x3[:,2])\n",
    "col1_mean_matrix"
   ]
  },
  {
   "cell_type": "code",
   "execution_count": 17,
   "id": "f1b5d637",
   "metadata": {},
   "outputs": [
    {
     "data": {
      "text/plain": [
       "array([3., 4., 5.])"
      ]
     },
     "execution_count": 17,
     "metadata": {},
     "output_type": "execute_result"
    }
   ],
   "source": [
    "# Find the mean\n",
    "row_of_column_means = np.sum(matrix_3x3, axis=0 ) / len(matrix_3x3[:,0])\n",
    "row_of_column_means"
   ]
  },
  {
   "cell_type": "code",
   "execution_count": 18,
   "id": "c460f331",
   "metadata": {},
   "outputs": [
    {
     "data": {
      "text/plain": [
       "array([1., 4., 7.])"
      ]
     },
     "execution_count": 18,
     "metadata": {},
     "output_type": "execute_result"
    }
   ],
   "source": [
    "column_of_row_means = np.sum(matrix_3x3, axis=1 ) / len(matrix_3x3[0,:])\n",
    "column_of_row_means"
   ]
  },
  {
   "cell_type": "code",
   "execution_count": 19,
   "id": "0cac6f34",
   "metadata": {},
   "outputs": [
    {
     "data": {
      "text/plain": [
       "4.0"
      ]
     },
     "execution_count": 19,
     "metadata": {},
     "output_type": "execute_result"
    }
   ],
   "source": [
    "mean_matrix_3x3 = np.mean(matrix_3x3)\n",
    "mean_matrix_3x3"
   ]
  },
  {
   "cell_type": "code",
   "execution_count": 20,
   "id": "0a2c32e9",
   "metadata": {},
   "outputs": [],
   "source": [
    "#other_col1_mean_matrix[0]"
   ]
  },
  {
   "cell_type": "code",
   "execution_count": 21,
   "id": "636fb3f3",
   "metadata": {},
   "outputs": [
    {
     "data": {
      "text/plain": [
       "array([0, 1, 2])"
      ]
     },
     "execution_count": 21,
     "metadata": {},
     "output_type": "execute_result"
    }
   ],
   "source": [
    "matrix_3x3[0,:]"
   ]
  },
  {
   "cell_type": "markdown",
   "id": "a489603e",
   "metadata": {},
   "source": [
    "## VARIANCE: Row 1"
   ]
  },
  {
   "cell_type": "code",
   "execution_count": 22,
   "id": "d598c366",
   "metadata": {},
   "outputs": [
    {
     "data": {
      "text/plain": [
       "array([-1.,  0.,  1.])"
      ]
     },
     "execution_count": 22,
     "metadata": {},
     "output_type": "execute_result"
    }
   ],
   "source": [
    "# Find all the (element - mean) in row 1\n",
    "\n",
    "row1_element_minus_mean = matrix_3x3[0,:] - column_of_row_means[0]\n",
    "row1_element_minus_mean"
   ]
  },
  {
   "cell_type": "code",
   "execution_count": 23,
   "id": "fc2eff83",
   "metadata": {},
   "outputs": [
    {
     "data": {
      "text/plain": [
       "array([0.33333333, 0.        , 0.33333333])"
      ]
     },
     "execution_count": 23,
     "metadata": {},
     "output_type": "execute_result"
    }
   ],
   "source": [
    "# Find all the individual variances row 1\n",
    "\n",
    "row1_individual_variances = (row1_element_minus_mean**2) / np.count_nonzero(~np.isnan(matrix_3x3[0,:]))\n",
    "row1_individual_variances"
   ]
  },
  {
   "cell_type": "code",
   "execution_count": 82,
   "id": "f893f664",
   "metadata": {},
   "outputs": [
    {
     "data": {
      "text/plain": [
       "0.6666666666666666"
      ]
     },
     "execution_count": 82,
     "metadata": {},
     "output_type": "execute_result"
    }
   ],
   "source": [
    "# Find the variance for row1 using the sumation\n",
    "\n",
    "row1_variance = np.sum(row1_individual_variances)\n",
    "row1_variance"
   ]
  },
  {
   "cell_type": "code",
   "execution_count": 81,
   "id": "a9993760",
   "metadata": {},
   "outputs": [
    {
     "data": {
      "text/plain": [
       "5.333333333333333"
      ]
     },
     "execution_count": 81,
     "metadata": {},
     "output_type": "execute_result"
    }
   ],
   "source": [
    "# Find the variance\n",
    "# [(element - mean)^2] / num of elements\n",
    "\n",
    "((matrix_3x3[0,0] - mean_matrix_3x3)**2) / len(matrix_3x3)"
   ]
  },
  {
   "cell_type": "markdown",
   "id": "a0d5fdb5",
   "metadata": {},
   "source": [
    "## VARIANCE: Row 2"
   ]
  },
  {
   "cell_type": "code",
   "execution_count": 26,
   "id": "827c54a4",
   "metadata": {},
   "outputs": [
    {
     "data": {
      "text/plain": [
       "array([-1.,  0.,  1.])"
      ]
     },
     "execution_count": 26,
     "metadata": {},
     "output_type": "execute_result"
    }
   ],
   "source": [
    "# Find all the (element - mean) in row 2\n",
    "\n",
    "row2_element_minus_mean = matrix_3x3[1,:] - column_of_row_means[1]\n",
    "row2_element_minus_mean"
   ]
  },
  {
   "cell_type": "code",
   "execution_count": 27,
   "id": "a1429e19",
   "metadata": {},
   "outputs": [
    {
     "data": {
      "text/plain": [
       "array([0.33333333, 0.        , 0.33333333])"
      ]
     },
     "execution_count": 27,
     "metadata": {},
     "output_type": "execute_result"
    }
   ],
   "source": [
    "# Find all the individual variances row 2\n",
    "\n",
    "row2_individual_variances = (row2_element_minus_mean**2) / np.count_nonzero(~np.isnan(matrix_3x3[1,:]))\n",
    "row2_individual_variances"
   ]
  },
  {
   "cell_type": "code",
   "execution_count": 28,
   "id": "74d9ff40",
   "metadata": {},
   "outputs": [
    {
     "data": {
      "text/plain": [
       "0.6666666666666666"
      ]
     },
     "execution_count": 28,
     "metadata": {},
     "output_type": "execute_result"
    }
   ],
   "source": [
    "# Find the variance for row2 using the sumation\n",
    "\n",
    "row2_variance = np.sum(row2_individual_variances)\n",
    "row2_variance"
   ]
  },
  {
   "cell_type": "markdown",
   "id": "9c2f90a2",
   "metadata": {},
   "source": [
    "## VARIANCE: Row 3"
   ]
  },
  {
   "cell_type": "code",
   "execution_count": 29,
   "id": "d8517979",
   "metadata": {},
   "outputs": [
    {
     "data": {
      "text/plain": [
       "array([-1.,  0.,  1.])"
      ]
     },
     "execution_count": 29,
     "metadata": {},
     "output_type": "execute_result"
    }
   ],
   "source": [
    "# Find all the (element - mean) in row 3\n",
    "\n",
    "row3_element_minus_mean = matrix_3x3[2,:] - column_of_row_means[2]\n",
    "row3_element_minus_mean"
   ]
  },
  {
   "cell_type": "code",
   "execution_count": 30,
   "id": "bbd2d07b",
   "metadata": {},
   "outputs": [
    {
     "data": {
      "text/plain": [
       "array([0.33333333, 0.        , 0.33333333])"
      ]
     },
     "execution_count": 30,
     "metadata": {},
     "output_type": "execute_result"
    }
   ],
   "source": [
    "# Find all the individual variances row 3\n",
    "\n",
    "row3_individual_variances = (row3_element_minus_mean**2) / np.count_nonzero(~np.isnan(matrix_3x3[2,:]))\n",
    "row3_individual_variances"
   ]
  },
  {
   "cell_type": "code",
   "execution_count": 31,
   "id": "30edc070",
   "metadata": {},
   "outputs": [
    {
     "data": {
      "text/plain": [
       "0.6666666666666666"
      ]
     },
     "execution_count": 31,
     "metadata": {},
     "output_type": "execute_result"
    }
   ],
   "source": [
    "# Find the variance for row3 using the sumation\n",
    "\n",
    "row3_variance = np.sum(row3_individual_variances)\n",
    "row3_variance"
   ]
  },
  {
   "cell_type": "code",
   "execution_count": 32,
   "id": "7ebbcff5",
   "metadata": {},
   "outputs": [
    {
     "data": {
      "text/plain": [
       "[0.6666666666666666, 0.6666666666666666, 0.6666666666666666]"
      ]
     },
     "execution_count": 32,
     "metadata": {},
     "output_type": "execute_result"
    }
   ],
   "source": [
    "column_variances = [row1_variance, row2_variance, row3_variance]\n",
    "column_variances"
   ]
  },
  {
   "cell_type": "markdown",
   "id": "eb766e34",
   "metadata": {},
   "source": [
    "## VARIANCE: Column 1"
   ]
  },
  {
   "cell_type": "code",
   "execution_count": 33,
   "id": "ae979b6a",
   "metadata": {},
   "outputs": [
    {
     "data": {
      "text/plain": [
       "array([-3.,  0.,  3.])"
      ]
     },
     "execution_count": 33,
     "metadata": {},
     "output_type": "execute_result"
    }
   ],
   "source": [
    "# Find all the (element - mean) in column 1\n",
    "\n",
    "col1_element_minus_mean = matrix_3x3[:,0] - row_of_column_means[0]\n",
    "col1_element_minus_mean"
   ]
  },
  {
   "cell_type": "code",
   "execution_count": 34,
   "id": "5a99d00f",
   "metadata": {},
   "outputs": [
    {
     "data": {
      "text/plain": [
       "3"
      ]
     },
     "execution_count": 34,
     "metadata": {},
     "output_type": "execute_result"
    }
   ],
   "source": [
    "np.count_nonzero(~np.isnan(matrix_3x3[:,0]))"
   ]
  },
  {
   "cell_type": "code",
   "execution_count": 35,
   "id": "a20f5e65",
   "metadata": {},
   "outputs": [
    {
     "data": {
      "text/plain": [
       "array([3., 0., 3.])"
      ]
     },
     "execution_count": 35,
     "metadata": {},
     "output_type": "execute_result"
    }
   ],
   "source": [
    "# Find all the individual variances column 1\n",
    "\n",
    "col1_individual_variances = (col1_element_minus_mean**2) / np.count_nonzero(~np.isnan(matrix_3x3[:,0]))\n",
    "col1_individual_variances"
   ]
  },
  {
   "cell_type": "code",
   "execution_count": 36,
   "id": "abfac35b",
   "metadata": {},
   "outputs": [
    {
     "data": {
      "text/plain": [
       "6.0"
      ]
     },
     "execution_count": 36,
     "metadata": {},
     "output_type": "execute_result"
    }
   ],
   "source": [
    "# Find the variance for column 1 using the sumation\n",
    "\n",
    "col1_variance = np.sum(col1_individual_variances)\n",
    "col1_variance"
   ]
  },
  {
   "cell_type": "markdown",
   "id": "da517f9e",
   "metadata": {},
   "source": [
    "## VARIANCE: Column 2"
   ]
  },
  {
   "cell_type": "code",
   "execution_count": 37,
   "id": "9323960d",
   "metadata": {},
   "outputs": [
    {
     "data": {
      "text/plain": [
       "array([-3.,  0.,  3.])"
      ]
     },
     "execution_count": 37,
     "metadata": {},
     "output_type": "execute_result"
    }
   ],
   "source": [
    "# Find all the (element - mean) in column 2\n",
    "\n",
    "col2_element_minus_mean = matrix_3x3[:,1] - row_of_column_means[1]\n",
    "col2_element_minus_mean"
   ]
  },
  {
   "cell_type": "code",
   "execution_count": 38,
   "id": "29503bf9",
   "metadata": {},
   "outputs": [
    {
     "data": {
      "text/plain": [
       "3"
      ]
     },
     "execution_count": 38,
     "metadata": {},
     "output_type": "execute_result"
    }
   ],
   "source": [
    "np.count_nonzero(~np.isnan(matrix_3x3[:,1]))"
   ]
  },
  {
   "cell_type": "code",
   "execution_count": 39,
   "id": "c261f0a1",
   "metadata": {},
   "outputs": [
    {
     "data": {
      "text/plain": [
       "array([3., 0., 3.])"
      ]
     },
     "execution_count": 39,
     "metadata": {},
     "output_type": "execute_result"
    }
   ],
   "source": [
    "# Find all the individual variances column 2\n",
    "\n",
    "col2_individual_variances = (col2_element_minus_mean**2) / np.count_nonzero(~np.isnan(matrix_3x3[:,1]))\n",
    "col2_individual_variances"
   ]
  },
  {
   "cell_type": "code",
   "execution_count": 40,
   "id": "7ba32155",
   "metadata": {},
   "outputs": [
    {
     "data": {
      "text/plain": [
       "6.0"
      ]
     },
     "execution_count": 40,
     "metadata": {},
     "output_type": "execute_result"
    }
   ],
   "source": [
    "# Find the variance for column 2 using the sumation\n",
    "\n",
    "col2_variance = np.sum(col2_individual_variances)\n",
    "col2_variance"
   ]
  },
  {
   "cell_type": "markdown",
   "id": "657d0a16",
   "metadata": {},
   "source": [
    "## VARIANCE: Column 3"
   ]
  },
  {
   "cell_type": "code",
   "execution_count": 41,
   "id": "e514c45f",
   "metadata": {},
   "outputs": [
    {
     "data": {
      "text/plain": [
       "array([-3.,  0.,  3.])"
      ]
     },
     "execution_count": 41,
     "metadata": {},
     "output_type": "execute_result"
    }
   ],
   "source": [
    "# Find all the (element - mean) in column 3\n",
    "\n",
    "col3_element_minus_mean = matrix_3x3[:,2] - row_of_column_means[2]\n",
    "col3_element_minus_mean"
   ]
  },
  {
   "cell_type": "code",
   "execution_count": 42,
   "id": "8d93d35b",
   "metadata": {},
   "outputs": [
    {
     "data": {
      "text/plain": [
       "array([3., 0., 3.])"
      ]
     },
     "execution_count": 42,
     "metadata": {},
     "output_type": "execute_result"
    }
   ],
   "source": [
    "# Find all the individual variances column 3\n",
    "\n",
    "col3_individual_variances = (col3_element_minus_mean**2) / np.count_nonzero(~np.isnan(matrix_3x3[:,2]))\n",
    "col3_individual_variances"
   ]
  },
  {
   "cell_type": "code",
   "execution_count": 43,
   "id": "03bc0fa6",
   "metadata": {},
   "outputs": [
    {
     "data": {
      "text/plain": [
       "6.0"
      ]
     },
     "execution_count": 43,
     "metadata": {},
     "output_type": "execute_result"
    }
   ],
   "source": [
    "# Find the variance for column 3 using the sumation\n",
    "\n",
    "col3_variance = np.sum(col3_individual_variances)\n",
    "col3_variance"
   ]
  },
  {
   "cell_type": "code",
   "execution_count": 44,
   "id": "36507d21",
   "metadata": {},
   "outputs": [],
   "source": [
    "row_variances = [col1_variance, col2_variance, col3_variance]"
   ]
  },
  {
   "cell_type": "markdown",
   "id": "017f8d21",
   "metadata": {},
   "source": [
    "## VARIANCE: Entire Matrix"
   ]
  },
  {
   "cell_type": "code",
   "execution_count": 45,
   "id": "9c5138ac",
   "metadata": {},
   "outputs": [
    {
     "data": {
      "text/plain": [
       "array([[-4., -3., -2.],\n",
       "       [-1.,  0.,  1.],\n",
       "       [ 2.,  3.,  4.]])"
      ]
     },
     "execution_count": 45,
     "metadata": {},
     "output_type": "execute_result"
    }
   ],
   "source": [
    "# Find all the (element - mean) in enitre matrix\n",
    "\n",
    "matrix_element_minus_mean = matrix_3x3[:,:] - mean_matrix_3x3\n",
    "matrix_element_minus_mean"
   ]
  },
  {
   "cell_type": "code",
   "execution_count": 46,
   "id": "556fbe13",
   "metadata": {},
   "outputs": [
    {
     "data": {
      "text/plain": [
       "9"
      ]
     },
     "execution_count": 46,
     "metadata": {},
     "output_type": "execute_result"
    }
   ],
   "source": [
    "np.count_nonzero(~np.isnan(matrix_3x3))"
   ]
  },
  {
   "cell_type": "code",
   "execution_count": 47,
   "id": "a296250f",
   "metadata": {},
   "outputs": [
    {
     "data": {
      "text/plain": [
       "array([[1.77777778, 1.        , 0.44444444],\n",
       "       [0.11111111, 0.        , 0.11111111],\n",
       "       [0.44444444, 1.        , 1.77777778]])"
      ]
     },
     "execution_count": 47,
     "metadata": {},
     "output_type": "execute_result"
    }
   ],
   "source": [
    "# Find all the individual variances in enitre matrix\n",
    "\n",
    "matrix_individual_variances = (matrix_element_minus_mean**2) / np.count_nonzero(~np.isnan(matrix_3x3))\n",
    "matrix_individual_variances"
   ]
  },
  {
   "cell_type": "code",
   "execution_count": 48,
   "id": "4d3cb3ef",
   "metadata": {},
   "outputs": [
    {
     "data": {
      "text/plain": [
       "6.666666666666666"
      ]
     },
     "execution_count": 48,
     "metadata": {},
     "output_type": "execute_result"
    }
   ],
   "source": [
    "# Find the variance for the enitre matrix using the sumation\n",
    "\n",
    "matrix_variance = np.sum(matrix_individual_variances)\n",
    "matrix_variance"
   ]
  },
  {
   "cell_type": "code",
   "execution_count": 49,
   "id": "200a5e81",
   "metadata": {},
   "outputs": [
    {
     "data": {
      "text/plain": [
       "3"
      ]
     },
     "execution_count": 49,
     "metadata": {},
     "output_type": "execute_result"
    }
   ],
   "source": [
    "len(matrix_3x3[:,:])"
   ]
  },
  {
   "cell_type": "code",
   "execution_count": 50,
   "id": "57e0a41f",
   "metadata": {},
   "outputs": [
    {
     "data": {
      "text/plain": [
       "[[6.0, 6.0, 6.0],\n",
       " [0.6666666666666666, 0.6666666666666666, 0.6666666666666666],\n",
       " 6.666666666666666]"
      ]
     },
     "execution_count": 50,
     "metadata": {},
     "output_type": "execute_result"
    }
   ],
   "source": [
    "variances = [row_variances, column_variances, matrix_variance]\n",
    "variances"
   ]
  },
  {
   "cell_type": "markdown",
   "id": "ad88a133",
   "metadata": {},
   "source": [
    "# STANDARD DEVIATION"
   ]
  },
  {
   "cell_type": "markdown",
   "id": "5780fadb",
   "metadata": {},
   "source": [
    "## Find Std Dev of Rows"
   ]
  },
  {
   "cell_type": "code",
   "execution_count": 51,
   "id": "811ed1aa",
   "metadata": {
    "scrolled": true
   },
   "outputs": [
    {
     "data": {
      "text/plain": [
       "[6.0, 6.0, 6.0]"
      ]
     },
     "execution_count": 51,
     "metadata": {},
     "output_type": "execute_result"
    }
   ],
   "source": [
    "row_variances"
   ]
  },
  {
   "cell_type": "code",
   "execution_count": 52,
   "id": "50091a71",
   "metadata": {
    "scrolled": true
   },
   "outputs": [
    {
     "data": {
      "text/plain": [
       "array([2.44948974, 2.44948974, 2.44948974])"
      ]
     },
     "execution_count": 52,
     "metadata": {},
     "output_type": "execute_result"
    }
   ],
   "source": [
    "std_dev_row = np.sqrt(row_variances)\n",
    "std_dev_row"
   ]
  },
  {
   "cell_type": "markdown",
   "id": "625ccd32",
   "metadata": {},
   "source": [
    "## Find Std Dev of Columns"
   ]
  },
  {
   "cell_type": "code",
   "execution_count": 53,
   "id": "d53f1896",
   "metadata": {},
   "outputs": [
    {
     "data": {
      "text/plain": [
       "[0.6666666666666666, 0.6666666666666666, 0.6666666666666666]"
      ]
     },
     "execution_count": 53,
     "metadata": {},
     "output_type": "execute_result"
    }
   ],
   "source": [
    "column_variances"
   ]
  },
  {
   "cell_type": "code",
   "execution_count": 54,
   "id": "2c2f4a10",
   "metadata": {},
   "outputs": [
    {
     "data": {
      "text/plain": [
       "array([0.81649658, 0.81649658, 0.81649658])"
      ]
     },
     "execution_count": 54,
     "metadata": {},
     "output_type": "execute_result"
    }
   ],
   "source": [
    "std_dev_column = np.sqrt(column_variances)\n",
    "std_dev_column"
   ]
  },
  {
   "cell_type": "markdown",
   "id": "4e366d90",
   "metadata": {},
   "source": [
    "## Find Std Dev of Entire Matrix"
   ]
  },
  {
   "cell_type": "code",
   "execution_count": 55,
   "id": "b9d2358a",
   "metadata": {},
   "outputs": [
    {
     "data": {
      "text/plain": [
       "6.666666666666666"
      ]
     },
     "execution_count": 55,
     "metadata": {},
     "output_type": "execute_result"
    }
   ],
   "source": [
    "matrix_variance"
   ]
  },
  {
   "cell_type": "code",
   "execution_count": 56,
   "id": "9e8074bb",
   "metadata": {},
   "outputs": [
    {
     "data": {
      "text/plain": [
       "2.581988897471611"
      ]
     },
     "execution_count": 56,
     "metadata": {},
     "output_type": "execute_result"
    }
   ],
   "source": [
    "std_dev_entire_matrix = np.sqrt(matrix_variance)\n",
    "std_dev_entire_matrix"
   ]
  },
  {
   "cell_type": "markdown",
   "id": "049e0760",
   "metadata": {},
   "source": [
    "# Combine all Std Devs"
   ]
  },
  {
   "cell_type": "code",
   "execution_count": 57,
   "id": "037d6532",
   "metadata": {},
   "outputs": [
    {
     "data": {
      "text/plain": [
       "[array([2.44948974, 2.44948974, 2.44948974]),\n",
       " array([0.81649658, 0.81649658, 0.81649658]),\n",
       " 2.581988897471611]"
      ]
     },
     "execution_count": 57,
     "metadata": {},
     "output_type": "execute_result"
    }
   ],
   "source": [
    "std_devs = [std_dev_row, std_dev_column, std_dev_entire_matrix]\n",
    "std_devs"
   ]
  },
  {
   "cell_type": "markdown",
   "id": "6d0ce4a8",
   "metadata": {},
   "source": [
    "# Convert all matrices and etc into a Dictionary"
   ]
  },
  {
   "cell_type": "markdown",
   "id": "989b337b",
   "metadata": {},
   "source": [
    "## Convert Maxes to a List"
   ]
  },
  {
   "cell_type": "code",
   "execution_count": 98,
   "id": "a584511c",
   "metadata": {},
   "outputs": [
    {
     "data": {
      "text/plain": [
       "[6, 7, 8]"
      ]
     },
     "execution_count": 98,
     "metadata": {},
     "output_type": "execute_result"
    }
   ],
   "source": [
    "matrix_3x3_row_max_list = matrix_3x3_row_max.tolist()\n",
    "matrix_3x3_row_max_list"
   ]
  },
  {
   "cell_type": "code",
   "execution_count": 102,
   "id": "227027ad",
   "metadata": {},
   "outputs": [
    {
     "data": {
      "text/plain": [
       "[2, 5, 8]"
      ]
     },
     "execution_count": 102,
     "metadata": {},
     "output_type": "execute_result"
    }
   ],
   "source": [
    "matrix_3x3_column_max_list = matrix_3x3_column_max.tolist()\n",
    "matrix_3x3_column_max_list"
   ]
  },
  {
   "cell_type": "code",
   "execution_count": 103,
   "id": "7b01fbe9",
   "metadata": {
    "scrolled": true
   },
   "outputs": [
    {
     "data": {
      "text/plain": [
       "numpy.int32"
      ]
     },
     "execution_count": 103,
     "metadata": {},
     "output_type": "execute_result"
    }
   ],
   "source": [
    "type(max_element)"
   ]
  },
  {
   "cell_type": "code",
   "execution_count": 107,
   "id": "0e8fffc6",
   "metadata": {},
   "outputs": [
    {
     "data": {
      "text/plain": [
       "8"
      ]
     },
     "execution_count": 107,
     "metadata": {},
     "output_type": "execute_result"
    }
   ],
   "source": [
    "max_element_list = max_element.tolist()\n",
    "max_element_list"
   ]
  },
  {
   "cell_type": "code",
   "execution_count": 119,
   "id": "b3a26508",
   "metadata": {},
   "outputs": [
    {
     "data": {
      "text/plain": [
       "[[6, 7, 8], [2, 5, 8], 8]"
      ]
     },
     "execution_count": 119,
     "metadata": {},
     "output_type": "execute_result"
    }
   ],
   "source": [
    "max_list = [matrix_3x3_row_max_list, matrix_3x3_column_max_list, max_element_list]\n",
    "max_list"
   ]
  },
  {
   "cell_type": "markdown",
   "id": "2b6aa228",
   "metadata": {},
   "source": [
    "## Convert Mins to a List"
   ]
  },
  {
   "cell_type": "code",
   "execution_count": 108,
   "id": "30022bde",
   "metadata": {},
   "outputs": [],
   "source": [
    "matrix_3x3_row_min_list = matrix_3x3_row_min.tolist()"
   ]
  },
  {
   "cell_type": "code",
   "execution_count": 109,
   "id": "a3e48227",
   "metadata": {},
   "outputs": [],
   "source": [
    "matrix_3x3_column_min_list = matrix_3x3_column_min.tolist()"
   ]
  },
  {
   "cell_type": "code",
   "execution_count": 110,
   "id": "119d73a7",
   "metadata": {},
   "outputs": [],
   "source": [
    "min_element_list = min_element.tolist()"
   ]
  },
  {
   "cell_type": "code",
   "execution_count": 121,
   "id": "ffaeaaf8",
   "metadata": {},
   "outputs": [
    {
     "data": {
      "text/plain": [
       "[[0, 1, 2], [0, 3, 6], 0]"
      ]
     },
     "execution_count": 121,
     "metadata": {},
     "output_type": "execute_result"
    }
   ],
   "source": [
    "min_list = [matrix_3x3_row_min_list, matrix_3x3_column_min_list, min_element_list]\n",
    "min_list"
   ]
  },
  {
   "cell_type": "markdown",
   "id": "9a456fcc",
   "metadata": {},
   "source": [
    "## Convert Sums to a List"
   ]
  },
  {
   "cell_type": "code",
   "execution_count": 131,
   "id": "e9990b12",
   "metadata": {},
   "outputs": [
    {
     "data": {
      "text/plain": [
       "array([ 9, 12, 15])"
      ]
     },
     "execution_count": 131,
     "metadata": {},
     "output_type": "execute_result"
    }
   ],
   "source": [
    "row_sum_matrix"
   ]
  },
  {
   "cell_type": "code",
   "execution_count": 116,
   "id": "3857b84d",
   "metadata": {},
   "outputs": [],
   "source": [
    "row_sum_matrix_list = row_sum_matrix.tolist()"
   ]
  },
  {
   "cell_type": "code",
   "execution_count": 109,
   "id": "1d53e5ed",
   "metadata": {},
   "outputs": [],
   "source": [
    "matrix_3x3_column_min_list = matrix_3x3_column_min.tolist()"
   ]
  },
  {
   "cell_type": "code",
   "execution_count": 110,
   "id": "66669895",
   "metadata": {},
   "outputs": [],
   "source": [
    "min_element_list = min_element.tolist()"
   ]
  },
  {
   "cell_type": "code",
   "execution_count": 122,
   "id": "607b7be2",
   "metadata": {},
   "outputs": [
    {
     "data": {
      "text/plain": [
       "[[9, 12, 15], [0, 3, 6], 0]"
      ]
     },
     "execution_count": 122,
     "metadata": {},
     "output_type": "execute_result"
    }
   ],
   "source": [
    "sum_list = [row_sum_matrix_list, matrix_3x3_column_min_list, min_element_list]\n",
    "sum_list"
   ]
  },
  {
   "cell_type": "code",
   "execution_count": null,
   "id": "6e33702f",
   "metadata": {},
   "outputs": [],
   "source": []
  },
  {
   "cell_type": "markdown",
   "id": "fe0fe636",
   "metadata": {},
   "source": [
    "## Convert Means to a List"
   ]
  },
  {
   "cell_type": "code",
   "execution_count": 77,
   "id": "eaa04498",
   "metadata": {},
   "outputs": [
    {
     "data": {
      "text/plain": [
       "[3.0, 4.0, 5.0]"
      ]
     },
     "execution_count": 77,
     "metadata": {},
     "output_type": "execute_result"
    }
   ],
   "source": [
    "row_of_column_means_list = row_of_column_means.tolist()\n",
    "row_of_column_means_list"
   ]
  },
  {
   "cell_type": "code",
   "execution_count": 76,
   "id": "f2f7ddb1",
   "metadata": {},
   "outputs": [
    {
     "data": {
      "text/plain": [
       "[1.0, 4.0, 7.0]"
      ]
     },
     "execution_count": 76,
     "metadata": {},
     "output_type": "execute_result"
    }
   ],
   "source": [
    "column_of_row_means_list = column_of_row_means.tolist()\n",
    "column_of_row_means_list"
   ]
  },
  {
   "cell_type": "code",
   "execution_count": 80,
   "id": "462c8046",
   "metadata": {},
   "outputs": [
    {
     "data": {
      "text/plain": [
       "4.0"
      ]
     },
     "execution_count": 80,
     "metadata": {},
     "output_type": "execute_result"
    }
   ],
   "source": [
    "mean_matrix_3x3_list = mean_matrix_3x3.tolist()\n",
    "mean_matrix_3x3_list"
   ]
  },
  {
   "cell_type": "code",
   "execution_count": 124,
   "id": "652c4ae0",
   "metadata": {},
   "outputs": [
    {
     "data": {
      "text/plain": [
       "[[3.0, 4.0, 5.0], [1.0, 4.0, 7.0], 4.0]"
      ]
     },
     "execution_count": 124,
     "metadata": {},
     "output_type": "execute_result"
    }
   ],
   "source": [
    "mean_list = [row_of_column_means_list, column_of_row_means_list, mean_matrix_3x3_list]\n",
    "mean_list"
   ]
  },
  {
   "cell_type": "markdown",
   "id": "e37c33b7",
   "metadata": {},
   "source": [
    "## Convert Variances to a List"
   ]
  },
  {
   "cell_type": "code",
   "execution_count": 87,
   "id": "4ac4fbdb",
   "metadata": {},
   "outputs": [
    {
     "data": {
      "text/plain": [
       "list"
      ]
     },
     "execution_count": 87,
     "metadata": {},
     "output_type": "execute_result"
    }
   ],
   "source": [
    "type(row_variances)"
   ]
  },
  {
   "cell_type": "code",
   "execution_count": 88,
   "id": "98179e20",
   "metadata": {},
   "outputs": [
    {
     "data": {
      "text/plain": [
       "list"
      ]
     },
     "execution_count": 88,
     "metadata": {},
     "output_type": "execute_result"
    }
   ],
   "source": [
    "type(column_variances)"
   ]
  },
  {
   "cell_type": "code",
   "execution_count": 89,
   "id": "6a514a37",
   "metadata": {},
   "outputs": [
    {
     "data": {
      "text/plain": [
       "list"
      ]
     },
     "execution_count": 89,
     "metadata": {},
     "output_type": "execute_result"
    }
   ],
   "source": [
    "type(variances)"
   ]
  },
  {
   "cell_type": "markdown",
   "id": "a6885993",
   "metadata": {},
   "source": [
    "## Convert STD Devs to a List"
   ]
  },
  {
   "cell_type": "code",
   "execution_count": 58,
   "id": "0ea48f34",
   "metadata": {},
   "outputs": [
    {
     "data": {
      "text/plain": [
       "[2.449489742783178, 2.449489742783178, 2.449489742783178]"
      ]
     },
     "execution_count": 58,
     "metadata": {},
     "output_type": "execute_result"
    }
   ],
   "source": [
    "# Convert elements inside std_devs_row to a list\n",
    "std_dev_row_list = std_dev_row.tolist()\n",
    "std_dev_row_list"
   ]
  },
  {
   "cell_type": "code",
   "execution_count": 61,
   "id": "cdeaa0c3",
   "metadata": {},
   "outputs": [
    {
     "data": {
      "text/plain": [
       "[0.816496580927726, 0.816496580927726, 0.816496580927726]"
      ]
     },
     "execution_count": 61,
     "metadata": {},
     "output_type": "execute_result"
    }
   ],
   "source": [
    "# Convert elements inside std_devs_column to a list\n",
    "std_dev_column_list = std_dev_column.tolist()\n",
    "std_dev_column_list"
   ]
  },
  {
   "cell_type": "code",
   "execution_count": 63,
   "id": "a10179d0",
   "metadata": {},
   "outputs": [
    {
     "data": {
      "text/plain": [
       "2.581988897471611"
      ]
     },
     "execution_count": 63,
     "metadata": {},
     "output_type": "execute_result"
    }
   ],
   "source": [
    "# Convert elements inside std_devs_column to a list\n",
    "std_dev_entire_matrix_list = std_dev_entire_matrix.tolist()\n",
    "std_dev_entire_matrix_list"
   ]
  },
  {
   "cell_type": "code",
   "execution_count": 117,
   "id": "1374a497",
   "metadata": {},
   "outputs": [
    {
     "data": {
      "text/plain": [
       "[[2.449489742783178, 2.449489742783178, 2.449489742783178],\n",
       " [0.816496580927726, 0.816496580927726, 0.816496580927726],\n",
       " 2.581988897471611]"
      ]
     },
     "execution_count": 117,
     "metadata": {},
     "output_type": "execute_result"
    }
   ],
   "source": [
    "std_dev_lists = [std_dev_row_list, std_dev_column_list, std_dev_entire_matrix_list]\n",
    "std_dev_lists"
   ]
  },
  {
   "cell_type": "code",
   "execution_count": 59,
   "id": "f5138b73",
   "metadata": {},
   "outputs": [
    {
     "data": {
      "text/plain": [
       "{1: 2.449489742783178, 2: 2.449489742783178, 3: 2.449489742783178}"
      ]
     },
     "execution_count": 59,
     "metadata": {},
     "output_type": "execute_result"
    }
   ],
   "source": [
    "# Convert elements inside std_dev_row to a dictionary w/ an index starting at 1\n",
    "std_dev_dict = dict(enumerate(std_dev_row.flatten(), 1))\n",
    "std_dev_dict"
   ]
  },
  {
   "cell_type": "code",
   "execution_count": 60,
   "id": "66a72c06",
   "metadata": {},
   "outputs": [
    {
     "data": {
      "text/plain": [
       "{'standard deviation': [array([2.44948974, 2.44948974, 2.44948974]),\n",
       "  array([0.81649658, 0.81649658, 0.81649658]),\n",
       "  2.581988897471611]}"
      ]
     },
     "execution_count": 60,
     "metadata": {},
     "output_type": "execute_result"
    }
   ],
   "source": [
    "# dict({'standard deviation': [std_devs[0],std_devs[1],std_devs[2]]})\n",
    "dict({'standard deviation': std_devs[0:3]})"
   ]
  },
  {
   "cell_type": "markdown",
   "id": "d24b338d",
   "metadata": {},
   "source": [
    "## Convert One Large List"
   ]
  },
  {
   "cell_type": "code",
   "execution_count": 125,
   "id": "c2e9acd6",
   "metadata": {},
   "outputs": [
    {
     "data": {
      "text/plain": [
       "[[[3.0, 4.0, 5.0], [1.0, 4.0, 7.0], 4.0],\n",
       " [[6.0, 6.0, 6.0],\n",
       "  [0.6666666666666666, 0.6666666666666666, 0.6666666666666666],\n",
       "  6.666666666666666],\n",
       " [[2.449489742783178, 2.449489742783178, 2.449489742783178],\n",
       "  [0.816496580927726, 0.816496580927726, 0.816496580927726],\n",
       "  2.581988897471611],\n",
       " [[6, 7, 8], [2, 5, 8], 8],\n",
       " [[0, 1, 2], [0, 3, 6], 0],\n",
       " [[9, 12, 15], [0, 3, 6], 0]]"
      ]
     },
     "execution_count": 125,
     "metadata": {},
     "output_type": "execute_result"
    }
   ],
   "source": [
    "calculations_list = [mean_list, variances, std_dev_lists, max_list, min_list, sum_list]\n",
    "calculations_list"
   ]
  },
  {
   "cell_type": "markdown",
   "id": "48bf43b8",
   "metadata": {},
   "source": [
    "## Create One Large Dictionary"
   ]
  },
  {
   "cell_type": "code",
   "execution_count": 130,
   "id": "27335559",
   "metadata": {},
   "outputs": [
    {
     "data": {
      "text/plain": [
       "{'mean': [[3.0, 4.0, 5.0], [1.0, 4.0, 7.0], 4.0],\n",
       " 'variance': [[6.0, 6.0, 6.0],\n",
       "  [0.6666666666666666, 0.6666666666666666, 0.6666666666666666],\n",
       "  6.666666666666666],\n",
       " 'standard deviation': [[2.449489742783178,\n",
       "   2.449489742783178,\n",
       "   2.449489742783178],\n",
       "  [0.816496580927726, 0.816496580927726, 0.816496580927726],\n",
       "  2.581988897471611],\n",
       " 'max': [[6, 7, 8], [2, 5, 8], 8],\n",
       " 'min': [[0, 1, 2], [0, 3, 6], 0],\n",
       " 'sum': [[9, 12, 15], [0, 3, 6], 0]}"
      ]
     },
     "execution_count": 130,
     "metadata": {},
     "output_type": "execute_result"
    }
   ],
   "source": [
    "calculations = dict({'mean':mean_list,\n",
    "                     'variance':variances,\n",
    "                     'standard deviation':std_dev_lists,\n",
    "                     'max':max_list,\n",
    "                     'min':min_list,\n",
    "                     'sum':sum_list})\n",
    "calculations"
   ]
  },
  {
   "cell_type": "code",
   "execution_count": null,
   "id": "3d547878",
   "metadata": {},
   "outputs": [],
   "source": []
  },
  {
   "cell_type": "code",
   "execution_count": null,
   "id": "0d598b9b",
   "metadata": {},
   "outputs": [],
   "source": []
  },
  {
   "cell_type": "code",
   "execution_count": null,
   "id": "b5dbd5b0",
   "metadata": {},
   "outputs": [],
   "source": []
  },
  {
   "cell_type": "code",
   "execution_count": null,
   "id": "cf6591b2",
   "metadata": {},
   "outputs": [],
   "source": []
  },
  {
   "cell_type": "code",
   "execution_count": null,
   "id": "d5be56a7",
   "metadata": {},
   "outputs": [],
   "source": []
  },
  {
   "cell_type": "code",
   "execution_count": null,
   "id": "b2dce90c",
   "metadata": {},
   "outputs": [],
   "source": []
  }
 ],
 "metadata": {
  "kernelspec": {
   "display_name": "Python 3 (ipykernel)",
   "language": "python",
   "name": "python3"
  },
  "language_info": {
   "codemirror_mode": {
    "name": "ipython",
    "version": 3
   },
   "file_extension": ".py",
   "mimetype": "text/x-python",
   "name": "python",
   "nbconvert_exporter": "python",
   "pygments_lexer": "ipython3",
   "version": "3.9.13"
  }
 },
 "nbformat": 4,
 "nbformat_minor": 5
}
